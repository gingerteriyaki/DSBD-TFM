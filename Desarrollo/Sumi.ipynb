{
 "cells": [
  {
   "cell_type": "code",
   "execution_count": 7,
   "metadata": {},
   "outputs": [],
   "source": [
    "#para descargar la data de DigitalOceans. correr desde la terminal\n",
    "#python scripts/download_data.py\n",
    "\n",
    "# para ver la ruta del Codespace\n",
    "#import os\n",
    "#print(os.getcwd())\n",
    "\n",
    "#Librerias\n",
    "import pandas as pd"
   ]
  },
  {
   "cell_type": "markdown",
   "metadata": {},
   "source": [
    "El objetivo de este proyecto es predecir el rendimiento del cultivo de plátano en base al cambio climático por región. Para lograr esto, utilizaremos datos históricos de producción agrícola y datos climáticos para analizar y modelar la relación entre las variables climáticas y el rendimiento de los cultivos."
   ]
  },
  {
   "cell_type": "markdown",
   "metadata": {},
   "source": [
    "# Carga de datos y exploración"
   ]
  },
  {
   "cell_type": "code",
   "execution_count": 9,
   "metadata": {},
   "outputs": [],
   "source": [
    "ruta = '/workspaces/DSBD-TFM/data/'\n",
    "df_agricola = pd.read_excel(ruta + 'data_agricola.xlsx')\n",
    "df_clima = pd.read_excel(ruta + 'datos_climaticos.xlsx')"
   ]
  },
  {
   "cell_type": "code",
   "execution_count": 10,
   "metadata": {},
   "outputs": [
    {
     "name": "stdout",
     "output_type": "stream",
     "text": [
      "<class 'pandas.core.frame.DataFrame'>\n",
      "RangeIndex: 1056 entries, 0 to 1055\n",
      "Data columns (total 6 columns):\n",
      " #   Column              Non-Null Count  Dtype  \n",
      "---  ------              --------------  -----  \n",
      " 0   YEAR                1056 non-null   int64  \n",
      " 1   REGION              1056 non-null   object \n",
      " 2   MONTH               1056 non-null   int64  \n",
      " 3   SIEMBRA_MENSUAL     1056 non-null   float64\n",
      " 4   COSECHA_MENSUAL     1056 non-null   float64\n",
      " 5   PRODUCCION_MENSUAL  1056 non-null   float64\n",
      "dtypes: float64(3), int64(2), object(1)\n",
      "memory usage: 49.6+ KB\n",
      "None\n"
     ]
    }
   ],
   "source": [
    "print(df_agricola.info())"
   ]
  },
  {
   "cell_type": "code",
   "execution_count": 12,
   "metadata": {},
   "outputs": [
    {
     "name": "stdout",
     "output_type": "stream",
     "text": [
      "   YEAR REGION  MONTH  SIEMBRA_MENSUAL  COSECHA_MENSUAL  PRODUCCION_MENSUAL\n",
      "0  2011  NORTE      1      2501.128707     12431.334220        26614.790039\n",
      "1  2011  NORTE      2      1961.987511     12744.350972        34669.848129\n",
      "2  2011  NORTE      3      1509.371697     12400.418075        34128.766399\n",
      "3  2011  NORTE      4      1623.434237     12514.195394        31215.193597\n",
      "4  2011  NORTE      5      2551.450416     12882.163934        34097.819812\n"
     ]
    }
   ],
   "source": [
    "print(df_agricola.head())"
   ]
  },
  {
   "cell_type": "code",
   "execution_count": 13,
   "metadata": {},
   "outputs": [
    {
     "name": "stdout",
     "output_type": "stream",
     "text": [
      "              YEAR        MONTH  SIEMBRA_MENSUAL  COSECHA_MENSUAL  \\\n",
      "count  1056.000000  1056.000000      1056.000000      1056.000000   \n",
      "mean   2016.181818     6.500000      2843.918561      7847.962342   \n",
      "std       3.434573     3.453688      1892.492377      8719.627451   \n",
      "min    2011.000000     1.000000       411.755026       232.386801   \n",
      "25%    2013.000000     3.750000      1417.969033      1873.698662   \n",
      "50%    2016.000000     6.500000      2399.383342      3836.159844   \n",
      "75%    2019.000000     9.250000      3855.801654     12732.059626   \n",
      "max    2022.000000    12.000000     14176.608193     44809.120274   \n",
      "\n",
      "       PRODUCCION_MENSUAL  \n",
      "count         1056.000000  \n",
      "mean         24597.845531  \n",
      "std          20433.415120  \n",
      "min           2627.769546  \n",
      "25%           9227.396700  \n",
      "50%          18051.656044  \n",
      "75%          33935.541940  \n",
      "max         124701.432158  \n"
     ]
    }
   ],
   "source": [
    "print(df_agricola.describe())"
   ]
  },
  {
   "cell_type": "code",
   "execution_count": 17,
   "metadata": {},
   "outputs": [
    {
     "name": "stdout",
     "output_type": "stream",
     "text": [
      "<class 'pandas.core.frame.DataFrame'>\n",
      "RangeIndex: 4608 entries, 0 to 4607\n",
      "Data columns (total 8 columns):\n",
      " #   Column         Non-Null Count  Dtype  \n",
      "---  ------         --------------  -----  \n",
      " 0   year           4608 non-null   int64  \n",
      " 1   month          4608 non-null   int64  \n",
      " 2   region         4608 non-null   object \n",
      " 3   provincia      4608 non-null   object \n",
      " 4   precipitation  4608 non-null   float64\n",
      " 5   max_temp       4608 non-null   float64\n",
      " 6   min_temp       4608 non-null   float64\n",
      " 7   humidity       4608 non-null   float64\n",
      "dtypes: float64(4), int64(2), object(2)\n",
      "memory usage: 288.1+ KB\n",
      "None\n"
     ]
    }
   ],
   "source": [
    "print(df_clima.info())"
   ]
  },
  {
   "cell_type": "markdown",
   "metadata": {},
   "source": [
    "# Pre Procesamiento de los datos"
   ]
  },
  {
   "cell_type": "code",
   "execution_count": null,
   "metadata": {},
   "outputs": [],
   "source": [
    "datos_clima = datos_clima.drop(columns=['YEAR.1', 'MONTH.1', 'Región.1'])\n",
    "datos_clima = datos_clima.rename(columns={\n",
    "    'Región': 'REGION', \n",
    "    'Humedad relativa': 'HUMEDAD_RELATIVA', \n",
    "    'Nubosidad': 'NUBOSIDAD', \n",
    "    'Precipitación': 'PRECIPITACION', \n",
    "    'Temperatura máxima': 'TEMP_MAX', \n",
    "    'Temperatura mínima': 'TEMP_MIN', \n",
    "    'Velocidad del viento': 'VEL_VIENTO'\n",
    "})"
   ]
  },
  {
   "cell_type": "code",
   "execution_count": null,
   "metadata": {},
   "outputs": [
    {
     "name": "stdout",
     "output_type": "stream",
     "text": [
      "<class 'pandas.core.frame.DataFrame'>\n",
      "RangeIndex: 2241 entries, 0 to 2240\n",
      "Data columns (total 9 columns):\n",
      " #   Column            Non-Null Count  Dtype  \n",
      "---  ------            --------------  -----  \n",
      " 0   YEAR              2241 non-null   int64  \n",
      " 1   MONTH             2241 non-null   int64  \n",
      " 2   REGION            2241 non-null   object \n",
      " 3   HUMEDAD_RELATIVA  1753 non-null   float64\n",
      " 4   NUBOSIDAD         495 non-null    float64\n",
      " 5   PRECIPITACION     2079 non-null   float64\n",
      " 6   TEMP_MAX          2115 non-null   float64\n",
      " 7   TEMP_MIN          2142 non-null   float64\n",
      " 8   VEL_VIENTO        1758 non-null   float64\n",
      "dtypes: float64(6), int64(2), object(1)\n",
      "memory usage: 157.7+ KB\n"
     ]
    }
   ],
   "source": [
    "datos_clima.info()"
   ]
  }
 ],
 "metadata": {
  "kernelspec": {
   "display_name": "venv",
   "language": "python",
   "name": "python3"
  },
  "language_info": {
   "codemirror_mode": {
    "name": "ipython",
    "version": 3
   },
   "file_extension": ".py",
   "mimetype": "text/x-python",
   "name": "python",
   "nbconvert_exporter": "python",
   "pygments_lexer": "ipython3",
   "version": "3.8.19"
  }
 },
 "nbformat": 4,
 "nbformat_minor": 2
}
